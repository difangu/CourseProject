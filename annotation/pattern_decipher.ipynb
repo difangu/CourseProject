{
 "cells": [
  {
   "cell_type": "code",
   "execution_count": 70,
   "metadata": {},
   "outputs": [],
   "source": [
    "import numpy as np"
   ]
  },
  {
   "cell_type": "markdown",
   "metadata": {},
   "source": [
    "#### Load Data"
   ]
  },
  {
   "cell_type": "code",
   "execution_count": 71,
   "metadata": {},
   "outputs": [],
   "source": [
    "#5 Massachusetts Institute of Technology, Cambridge, MA, USA\n",
    "#8 Georgia Institute of Technology, Atlanta, GA, USA\n",
    "#3 University of Maryland, College Park, MD, USA\n",
    "MIT_D = [line.rstrip() for line in open('./school_output/school2.txt')]\n",
    "GT_D = [line.rstrip() for line in open('./school_output/school8.txt')]\n",
    "UoM_D = [line.rstrip() for line in open('./school_output/school9.txt')]\n",
    "\n",
    "# here we load the frequent pattern for selected U.S schools \n",
    "dictionary = [line.rstrip() for line in open('./input/dblp_word.txt')]\n",
    "MIT = [line.rstrip() for line in open('./pattern_output/output2.txt')]\n",
    "GT = [line.rstrip() for line in open('./pattern_output/output8.txt')]\n",
    "UoM = [line.rstrip() for line in open('./pattern_output/output9.txt')]"
   ]
  },
  {
   "cell_type": "markdown",
   "metadata": {},
   "source": [
    "#### List Conversion:"
   ]
  },
  {
   "cell_type": "code",
   "execution_count": 72,
   "metadata": {},
   "outputs": [],
   "source": [
    "def listlize(alist):\n",
    "    count = 0 \n",
    "    for i in alist:\n",
    "        alist[count] = i.split()\n",
    "        count = count + 1\n",
    "    return alist"
   ]
  },
  {
   "cell_type": "code",
   "execution_count": 73,
   "metadata": {},
   "outputs": [],
   "source": [
    "def unique(sequence):\n",
    "    seen = set()\n",
    "    return [x for x in sequence if not (x in seen or seen.add(x))]"
   ]
  },
  {
   "cell_type": "code",
   "execution_count": 74,
   "metadata": {},
   "outputs": [],
   "source": [
    "MIT_D = listlize(MIT_D)\n",
    "GT_D = listlize(GT_D)\n",
    "UoM_D = listlize(UoM_D)"
   ]
  },
  {
   "cell_type": "markdown",
   "metadata": {},
   "source": [
    "#### School Title Pattern Examples:"
   ]
  },
  {
   "cell_type": "code",
   "execution_count": 75,
   "metadata": {},
   "outputs": [
    {
     "data": {
      "text/plain": [
       "['1 -1 #SUP: 173',\n",
       " '1 -1 1 47 -1 47 -1 #SUP: 10',\n",
       " '1 -1 1 86 -1 86 -1 #SUP: 10',\n",
       " '1 -1 1 -1 #SUP: 156',\n",
       " '1 -1 1 -1 1 -1 #SUP: 115']"
      ]
     },
     "execution_count": 75,
     "metadata": {},
     "output_type": "execute_result"
    }
   ],
   "source": [
    "MIT[0:5]"
   ]
  },
  {
   "cell_type": "code",
   "execution_count": 76,
   "metadata": {},
   "outputs": [
    {
     "data": {
      "text/plain": [
       "['1 -1 #SUP: 125',\n",
       " '1 -1 1 -1 #SUP: 116',\n",
       " '1 -1 1 -1 1 -1 #SUP: 100',\n",
       " '1 -1 1 -1 1 -1 1 -1 #SUP: 78',\n",
       " '1 -1 1 -1 1 -1 1 -1 1 -1 #SUP: 51']"
      ]
     },
     "execution_count": 76,
     "metadata": {},
     "output_type": "execute_result"
    }
   ],
   "source": [
    "GT[0:5]"
   ]
  },
  {
   "cell_type": "code",
   "execution_count": 77,
   "metadata": {},
   "outputs": [
    {
     "data": {
      "text/plain": [
       "['1 -1 #SUP: 66',\n",
       " '1 -1 1 -1 1 -1 1 160 -1 160 -1 160 -1 160 -1 #SUP: 10',\n",
       " '1 -1 1 -1 #SUP: 63',\n",
       " '1 -1 1 -1 1 -1 #SUP: 58',\n",
       " '1 -1 1 -1 1 -1 1 -1 #SUP: 50']"
      ]
     },
     "execution_count": 77,
     "metadata": {},
     "output_type": "execute_result"
    }
   ],
   "source": [
    "UoM[0:5]"
   ]
  },
  {
   "cell_type": "markdown",
   "metadata": {},
   "source": [
    "#### Sublist Conversion:"
   ]
  },
  {
   "cell_type": "code",
   "execution_count": 78,
   "metadata": {},
   "outputs": [],
   "source": [
    "def extract_sublist(school_list):\n",
    "    another_list = list()\n",
    "    for i in range(0, len(school_list)):\n",
    "        some_list = school_list[i].split()\n",
    "        tmp_list = list()\n",
    "        for i in some_list:\n",
    "            if i != '#SUP:':\n",
    "                tmp_list.append(int(i))\n",
    "            elif i == '#SUP:':\n",
    "                another_list.append(tmp_list)\n",
    "                break\n",
    "    return another_list"
   ]
  },
  {
   "cell_type": "code",
   "execution_count": 79,
   "metadata": {},
   "outputs": [],
   "source": [
    "MIT_list = extract_sublist(MIT)\n",
    "GT_list = extract_sublist(GT)\n",
    "UoM_list = extract_sublist(UoM)"
   ]
  },
  {
   "cell_type": "code",
   "execution_count": 80,
   "metadata": {},
   "outputs": [
    {
     "data": {
      "text/plain": [
       "[[1, -1],\n",
       " [1, -1, 1, 47, -1, 47, -1],\n",
       " [1, -1, 1, 86, -1, 86, -1],\n",
       " [1, -1, 1, -1],\n",
       " [1, -1, 1, -1, 1, -1]]"
      ]
     },
     "execution_count": 80,
     "metadata": {},
     "output_type": "execute_result"
    }
   ],
   "source": [
    "MIT_list[0:5]"
   ]
  },
  {
   "cell_type": "markdown",
   "metadata": {},
   "source": [
    "#### Create Dictionary: "
   ]
  },
  {
   "cell_type": "code",
   "execution_count": 81,
   "metadata": {},
   "outputs": [],
   "source": [
    "new_dict = dict()\n",
    "for i in range(0, len(dictionary)):\n",
    "    key1 = dictionary[i].split()[1]\n",
    "    item1 = dictionary[i].split()[0]\n",
    "    new_dict[key1] = item1"
   ]
  },
  {
   "cell_type": "code",
   "execution_count": 82,
   "metadata": {},
   "outputs": [
    {
     "data": {
      "text/plain": [
       "{'1': 'systems',\n",
       " '2': 'based',\n",
       " '3': 'pour',\n",
       " '4': 'fuuml',\n",
       " '5': 'agrave',\n",
       " '6': 'data',\n",
       " '7': 'analysis',\n",
       " '8': 'networks',\n",
       " '9': 'with',\n",
       " '10': 'atilde',\n",
       " '11': 'reacute',\n",
       " '12': 'application',\n",
       " '13': 'applications',\n",
       " '14': 'design',\n",
       " '15': 'eacute',\n",
       " '16': 'learning',\n",
       " '17': 'using',\n",
       " '18': 'multi',\n",
       " '19': 'system',\n",
       " '20': 'dans',\n",
       " '21': 'information',\n",
       " '22': 'software',\n",
       " '23': 'deacute',\n",
       " '24': 'model',\n",
       " '25': 'models',\n",
       " '26': 'approach',\n",
       " '27': 'meacute',\n",
       " '28': 'systegrave',\n",
       " '29': 'algorithms',\n",
       " '30': 'analyse',\n",
       " '31': 'simulation',\n",
       " '32': 'from',\n",
       " '33': 'methods',\n",
       " '34': 'time',\n",
       " '35': 'management',\n",
       " '36': 'control',\n",
       " '37': 'modeling',\n",
       " '38': 'distributed',\n",
       " '39': 'eines',\n",
       " '40': 'performance',\n",
       " '41': 'computer',\n",
       " '42': 'image',\n",
       " '43': 'techniques',\n",
       " '44': 'network',\n",
       " '45': 'framework',\n",
       " '46': 'development',\n",
       " '47': 'wireless',\n",
       " '48': 'efficient',\n",
       " '49': 'optimization',\n",
       " '50': 'detection',\n",
       " '51': 'images',\n",
       " '52': 'dynamic',\n",
       " '53': 'processing',\n",
       " '54': 'para',\n",
       " '55': 'mobile',\n",
       " '56': 'recognition',\n",
       " '57': 'entwicklung',\n",
       " '58': 'modegrave',\n",
       " '59': 'modelling',\n",
       " '60': 'lisation',\n",
       " '61': 'high',\n",
       " '62': 'modeacute',\n",
       " '63': 'architecture',\n",
       " '64': 'communication',\n",
       " '65': 'machine',\n",
       " '66': 'evaluation',\n",
       " '67': 'seaux',\n",
       " '68': 'seacute',\n",
       " '69': 'real',\n",
       " '70': 'programming',\n",
       " '71': 'knowledge',\n",
       " '72': 'service',\n",
       " '73': 'computing',\n",
       " '74': 'security',\n",
       " '75': 'study',\n",
       " '76': 'adaptive',\n",
       " '77': 'parallel',\n",
       " '78': 'human',\n",
       " '79': 'language',\n",
       " '80': 'automatic',\n",
       " '81': 'geacute',\n",
       " '82': 'donneacute',\n",
       " '83': 'optimisation',\n",
       " '84': 'einer',\n",
       " '85': 'interaction',\n",
       " '86': 'large',\n",
       " '87': 'eine',\n",
       " '88': 'problems',\n",
       " '89': 'support',\n",
       " '90': 'neural',\n",
       " '91': 'environments',\n",
       " '92': 'estimation',\n",
       " '93': 'object',\n",
       " '94': 'visual',\n",
       " '95': 'architectures',\n",
       " '96': 'user',\n",
       " '97': 'classification',\n",
       " '98': 'towards',\n",
       " '99': 'internet',\n",
       " '100': 'services',\n",
       " '101': 'virtual',\n",
       " '102': 'unter',\n",
       " '103': 'systeme',\n",
       " '104': 'integration',\n",
       " '105': 'digital',\n",
       " '106': 'contribution',\n",
       " '107': 'engineering',\n",
       " '108': 'video',\n",
       " '109': 'implementation',\n",
       " '110': 'conception',\n",
       " '111': 'oriented',\n",
       " '112': 'theory',\n",
       " '113': 'computational',\n",
       " '114': 'interactive',\n",
       " '115': 'beitrag',\n",
       " '116': 'semantic',\n",
       " '117': 'generation',\n",
       " '118': 'verification',\n",
       " '119': 'process',\n",
       " '120': 'context',\n",
       " '121': 'sensor',\n",
       " '122': 'approche',\n",
       " '123': 'agent',\n",
       " '124': 'scale',\n",
       " '125': 'beispiel',\n",
       " '126': 'durch',\n",
       " '127': 'anwendung',\n",
       " '128': 'level',\n",
       " '129': 'quality',\n",
       " '130': 'resource',\n",
       " '131': 'memory',\n",
       " '132': 'scheduling',\n",
       " '133': 'energy',\n",
       " '134': 'vision',\n",
       " '135': 'uuml',\n",
       " '136': 'cloud',\n",
       " '137': 'decision',\n",
       " '138': 'social',\n",
       " '139': 'approaches',\n",
       " '140': 'structures',\n",
       " '141': 'driven',\n",
       " '142': 'entwurf',\n",
       " '143': 'segmentation',\n",
       " '144': 'reconstruction',\n",
       " '145': 'environment',\n",
       " '146': 'teacute',\n",
       " '147': 'neacute',\n",
       " '148': 'formal',\n",
       " '149': 'retrieval',\n",
       " '150': 'thodes',\n",
       " '151': 'complex',\n",
       " '152': 'mining',\n",
       " '153': 'tzung',\n",
       " '154': 'hardware',\n",
       " '155': 'modellierung',\n",
       " '156': 'logic',\n",
       " '157': 'avec',\n",
       " '158': 'informaccedil',\n",
       " '159': 'verfahren',\n",
       " '160': 'embedded',\n",
       " '161': 'otilde',\n",
       " '162': 'graph',\n",
       " '163': 'through',\n",
       " '164': 'multiple',\n",
       " '165': 'extraction',\n",
       " '166': 'identification',\n",
       " '167': 'heterogeneous',\n",
       " '168': 'structure',\n",
       " '169': 'robust',\n",
       " '170': 'tzte',\n",
       " '171': 'search',\n",
       " '172': 'online',\n",
       " '173': 'tzten',\n",
       " '174': 'apprentissage',\n",
       " '175': 'self',\n",
       " '176': 'aware',\n",
       " '177': 'domain',\n",
       " '178': 'systemen',\n",
       " '179': 'method',\n",
       " '180': 'problem',\n",
       " '181': 'planning',\n",
       " '182': 'linear',\n",
       " '183': 'synthesis',\n",
       " '184': 'veacute',\n",
       " '185': 'basis',\n",
       " '186': 'temporal',\n",
       " '187': 'power',\n",
       " '188': 'speech',\n",
       " '189': 'routing',\n",
       " '190': 'contributions',\n",
       " '191': 'hybrid',\n",
       " '192': 'automatique',\n",
       " '193': 'baseacute',\n",
       " '194': 'statistical',\n",
       " '195': 'preacute',\n",
       " '196': 'programs',\n",
       " '197': 'numeacute',\n",
       " '198': 'automated',\n",
       " '199': 'communications',\n",
       " '200': 'algorithmes',\n",
       " '-1': None}"
      ]
     },
     "execution_count": 82,
     "metadata": {},
     "output_type": "execute_result"
    }
   ],
   "source": [
    "# this is the new dictionary that can be mapped from integer to any words:\n",
    "new_dict[\"-1\"] = None # add -1 as blank\n",
    "new_dict # the dictionary contains more than English because it was derived when pooling all schools across the globe"
   ]
  },
  {
   "cell_type": "markdown",
   "metadata": {},
   "source": [
    "#### Remove Redundancy: "
   ]
  },
  {
   "cell_type": "code",
   "execution_count": 83,
   "metadata": {},
   "outputs": [],
   "source": [
    "def setize(alist):\n",
    "    new_list = list([0]*len(alist))\n",
    "    for i in range(0, len(alist)):\n",
    "        alist[i] = list(unique(alist[i]))\n",
    "    return alist"
   ]
  },
  {
   "cell_type": "code",
   "execution_count": 84,
   "metadata": {},
   "outputs": [],
   "source": [
    "def rm_du_sublst(alist):\n",
    "    return list(unique(tuple((i)) for i in setize(alist)))"
   ]
  },
  {
   "cell_type": "code",
   "execution_count": 85,
   "metadata": {},
   "outputs": [],
   "source": [
    "final_MIT = rm_du_sublst(MIT_list)\n",
    "final_GT = rm_du_sublst(GT_list)\n",
    "final_UoM = rm_du_sublst(UoM_list)"
   ]
  },
  {
   "cell_type": "code",
   "execution_count": 86,
   "metadata": {},
   "outputs": [
    {
     "data": {
      "text/plain": [
       "[(1, -1),\n",
       " (1, -1, 47),\n",
       " (1, -1, 86),\n",
       " (1, -1, 7),\n",
       " (1, -1, 36),\n",
       " (1, -1, 9),\n",
       " (1, -1, 38),\n",
       " (1, -1, 14),\n",
       " (1, -1, 187),\n",
       " (61, -1, 187)]"
      ]
     },
     "execution_count": 86,
     "metadata": {},
     "output_type": "execute_result"
    }
   ],
   "source": [
    "final_MIT[0:10]"
   ]
  },
  {
   "cell_type": "code",
   "execution_count": 87,
   "metadata": {},
   "outputs": [
    {
     "data": {
      "text/plain": [
       "[(1, -1),\n",
       " (2, -1),\n",
       " (6, -1),\n",
       " (7, -1),\n",
       " (8, -1),\n",
       " (8, -1, 47),\n",
       " (9, -1),\n",
       " (13, -1),\n",
       " (14, -1),\n",
       " (16, -1)]"
      ]
     },
     "execution_count": 87,
     "metadata": {},
     "output_type": "execute_result"
    }
   ],
   "source": [
    "final_GT[0:10]"
   ]
  },
  {
   "cell_type": "code",
   "execution_count": 88,
   "metadata": {},
   "outputs": [
    {
     "data": {
      "text/plain": [
       "[(1, -1),\n",
       " (1, -1, 160),\n",
       " (1, -1, 2),\n",
       " (1, -1, 9),\n",
       " (1, -1, 6),\n",
       " (1, -1, 14),\n",
       " (2, -1),\n",
       " (2, -1, 24),\n",
       " (2, -1, 8),\n",
       " (6, -1)]"
      ]
     },
     "execution_count": 88,
     "metadata": {},
     "output_type": "execute_result"
    }
   ],
   "source": [
    "final_UoM[0:10]"
   ]
  },
  {
   "cell_type": "markdown",
   "metadata": {},
   "source": [
    "#### Mutual Information: "
   ]
  },
  {
   "cell_type": "code",
   "execution_count": 89,
   "metadata": {},
   "outputs": [],
   "source": [
    "def mu_info(Pa, Da, School):\n",
    "    #beta = Y = school \n",
    "    #alpha = X = pattern\n",
    "    D1 = MIT_D\n",
    "    D2 = GT_D\n",
    "    D3 = UoM_D\n",
    "    \n",
    "    if School == \"MIT\":\n",
    "        Pd = len(D1)\n",
    "    elif School == \"GT\":\n",
    "        Pd = len(D2)\n",
    "    elif School == \"UoM\":\n",
    "        Pd = len(D3)\n",
    "\n",
    "    # fixed\n",
    "    D_all = D1 + D2 + D3\n",
    "    absD = len(D_all)\n",
    "    Py = Pd/absD\n",
    "\n",
    "    count_ab = 0 \n",
    "    countX = 0\n",
    "\n",
    "    # all count of pattern in the target transaction (school)\n",
    "    for i in range(0, len(Da)):\n",
    "        count_ab = all(str(elem) in Da[i] for elem in Pa) + count_ab\n",
    "\n",
    "    # all counts of pattern appearing in all transactions (all schools)\n",
    "    for i in range(0, len(D_all)):\n",
    "        countX = all(str(elem) in D_all[i] for elem in Pa) + countX\n",
    "\n",
    "    Px = countX/len(D_all)\n",
    "    X1Y1 = count_ab/absD\n",
    "    X0Y1 = (len(D1) - count_ab)/absD\n",
    "    X1Y0 = 0\n",
    "    X0Y0 = (absD - count_ab)/absD\n",
    "\n",
    "    result = X1Y1 * np.log(X1Y1/(Px*Py)) + X0Y1 * np.log(X0Y1/(Px*Py)) + X0Y0 *np.log(X0Y0/(Px*Py))\n",
    "    return result"
   ]
  },
  {
   "cell_type": "code",
   "execution_count": 90,
   "metadata": {},
   "outputs": [],
   "source": [
    "# MIT Mutual Information: \n",
    "MIT_MI = list()\n",
    "for i in final_MIT:  #iterate every pattern of MIT \n",
    "    MIT_MI.append(mu_info(Pa = list(i), Da = MIT_D, School = \"MIT\"))"
   ]
  },
  {
   "cell_type": "code",
   "execution_count": 91,
   "metadata": {},
   "outputs": [],
   "source": [
    "# GT Mutual Information: \n",
    "GT_MI = list()\n",
    "for i in final_GT:  #iterate every pattern of MIT \n",
    "    GT_MI.append(mu_info(Pa = list(i), Da = GT_D, School = \"GT\"))"
   ]
  },
  {
   "cell_type": "code",
   "execution_count": 92,
   "metadata": {},
   "outputs": [],
   "source": [
    "# UoM Mutual Information: \n",
    "UoM_MI = list()\n",
    "for i in final_UoM:  #iterate every pattern of MIT \n",
    "    UoM_MI.append(mu_info(Pa = list(i), Da = UoM_D, School = \"UoM\"))"
   ]
  },
  {
   "cell_type": "markdown",
   "metadata": {},
   "source": [
    "#### Feature Pattern: "
   ]
  },
  {
   "cell_type": "code",
   "execution_count": 93,
   "metadata": {},
   "outputs": [],
   "source": [
    "MIT_top = list()\n",
    "GT_top = list()\n",
    "UoM_top = list()\n",
    "\n",
    "for i in range(1,16):\n",
    "    MIT_top.append(final_MIT[np.argsort(MIT_MI)[-i]])\n",
    "    GT_top.append(final_GT[np.argsort(GT_MI)[-i]])\n",
    "    UoM_top.append(final_UoM[np.argsort(UoM_MI)[-i]])"
   ]
  },
  {
   "cell_type": "markdown",
   "metadata": {},
   "source": [
    "#### Word Conversion:"
   ]
  },
  {
   "cell_type": "code",
   "execution_count": 94,
   "metadata": {},
   "outputs": [],
   "source": [
    "def word_convert(college_top):\n",
    "    result_list = list()\n",
    "    for i in college_top:\n",
    "        tmp = list()\n",
    "        for j in i: \n",
    "            if new_dict[str(j)] != None: \n",
    "                tmp.append(new_dict[str(j)])\n",
    "            else: \n",
    "                pass\n",
    "        result_list.append(tmp)    \n",
    "    return result_list"
   ]
  },
  {
   "cell_type": "code",
   "execution_count": 95,
   "metadata": {},
   "outputs": [
    {
     "name": "stdout",
     "output_type": "stream",
     "text": [
      "[['system', 'control'], ['energy', 'power'], ['analysis', 'control'], ['applications', 'power'], ['systems', 'large'], ['using', 'models'], ['extraction'], ['with', 'control'], ['systems', 'power'], ['verification'], ['algorithms', 'problems'], ['with', 'high'], ['design', 'power'], ['systems', 'wireless'], ['with', 'design']]\n"
     ]
    }
   ],
   "source": [
    "print(word_convert(MIT_top))\n",
    "f = open(\"./outcome/MIT.txt\", \"w\")\n",
    "for i in range(0, len(word_convert(MIT_top))):\n",
    "    if i == 0: \n",
    "        f.write(str(word_convert(MIT_top)[i]))\n",
    "    else:\n",
    "        f.write(\"\\n\" + str(word_convert(MIT_top)[i]))\n",
    "f.close()"
   ]
  },
  {
   "cell_type": "code",
   "execution_count": 96,
   "metadata": {},
   "outputs": [
    {
     "name": "stdout",
     "output_type": "stream",
     "text": [
      "[['programming'], ['framework'], ['management'], ['problems'], ['approach'], ['networks', 'wireless'], ['model'], ['detection'], ['methods'], ['dynamic'], ['performance'], ['distributed'], ['techniques'], ['information'], ['network']]\n"
     ]
    }
   ],
   "source": [
    "print(word_convert(GT_top))\n",
    "f = open(\"./outcome/GT.txt\", \"w\")\n",
    "for i in range(0, len(word_convert(GT_top))):\n",
    "    if i == 0: \n",
    "        f.write(str(word_convert(GT_top)[i]))\n",
    "    else:\n",
    "        f.write(\"\\n\" + str(word_convert(GT_top)[i]))\n",
    "f.close()"
   ]
  },
  {
   "cell_type": "code",
   "execution_count": 97,
   "metadata": {},
   "outputs": [
    {
     "name": "stdout",
     "output_type": "stream",
     "text": [
      "[['systems', 'embedded'], ['wireless', 'resource'], ['networks', 'resource'], ['recognition', 'object'], ['social'], ['based', 'networks'], ['applications', 'algorithms'], ['wireless', 'communications'], ['computer', 'vision'], ['systems', 'data'], ['data', 'from'], ['networks', 'design'], ['context'], ['with', 'algorithms'], ['networks', 'algorithms']]\n"
     ]
    }
   ],
   "source": [
    "print(word_convert(UoM_top))\n",
    "f = open(\"./outcome/UoM.txt\", \"w\")\n",
    "for i in range(0, len(word_convert(UoM_top))):\n",
    "    if i == 0: \n",
    "        f.write(str(word_convert(UoM_top)[i]))\n",
    "    else:\n",
    "        f.write(\"\\n\" + str(word_convert(UoM_top)[i]))\n",
    "f.close()"
   ]
  },
  {
   "cell_type": "code",
   "execution_count": null,
   "metadata": {},
   "outputs": [],
   "source": []
  },
  {
   "cell_type": "code",
   "execution_count": null,
   "metadata": {},
   "outputs": [],
   "source": []
  }
 ],
 "metadata": {
  "kernelspec": {
   "display_name": "Python 3",
   "language": "python",
   "name": "python3"
  },
  "language_info": {
   "codemirror_mode": {
    "name": "ipython",
    "version": 3
   },
   "file_extension": ".py",
   "mimetype": "text/x-python",
   "name": "python",
   "nbconvert_exporter": "python",
   "pygments_lexer": "ipython3",
   "version": "3.7.4"
  }
 },
 "nbformat": 4,
 "nbformat_minor": 2
}
