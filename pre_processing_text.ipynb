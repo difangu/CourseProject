{
 "cells": [
  {
   "cell_type": "code",
   "execution_count": 246,
   "metadata": {},
   "outputs": [],
   "source": [
    "#https://github.com/LoLei/spmf-py\n",
    "#http://www.philippe-fournier-viger.com/spmf/how_to_run_cmd_interface.php\n",
    "from spmf import Spmf\n",
    "import string\n",
    "import re\n",
    "import nltk\n",
    "from nltk.corpus import stopwords\n",
    "from nltk.tokenize import word_tokenize \n",
    "from nltk.stem import PorterStemmer \n"
   ]
  },
  {
   "cell_type": "code",
   "execution_count": 247,
   "metadata": {},
   "outputs": [],
   "source": [
    "address = \"./dblp/dblp_all.txt\"\n",
    "file = open(address, \"r\")\n",
    "\n",
    "ps = PorterStemmer() \n",
    "Lines = file.readlines()\n",
    "empty_list = list()\n",
    "list_no_stopword = list()\n",
    "\n",
    "count = 0\n",
    "# Strips the newline character \n",
    "for line in Lines: \n",
    "    newline = line.strip()\n",
    "    empty_list.append(newline)\n",
    "#print(empty_list)"
   ]
  },
  {
   "cell_type": "code",
   "execution_count": 248,
   "metadata": {},
   "outputs": [],
   "source": [
    "stop_words = set(stopwords.words('english')) \n",
    "no_url = list()\n",
    "for i in empty_list: \n",
    "    no_url.append(re.sub(r'\\w+:\\/{2}[\\d\\w-]+(\\.[\\d\\w-]+)*(?:(?:\\/[^\\s/]*))*', '', i))\n",
    "\n",
    "# remove punctuation and lower case\n",
    "table = str.maketrans(\"\",\"\", string.punctuation)\n",
    "no_url = [w.translate(table).lower() for w in no_url]   \n",
    "#print(no_url[0:3])"
   ]
  },
  {
   "cell_type": "code",
   "execution_count": 249,
   "metadata": {},
   "outputs": [],
   "source": [
    "token_list = list()\n",
    "for i in no_url: \n",
    "    token_list.append(word_tokenize(i))\n",
    "#print(token_list)"
   ]
  },
  {
   "cell_type": "code",
   "execution_count": 250,
   "metadata": {},
   "outputs": [],
   "source": [
    "#remove stop words and digits \n",
    "no_stop = list()\n",
    "no_stop_el = list()\n",
    "for i in token_list:\n",
    "    for j in i:\n",
    "        if j not in stop_words and j.isdigit() == False:\n",
    "            #print(j.isdigit())\n",
    "            no_stop_el.append(ps.stem(j))\n",
    "    no_stop.append(no_stop_el)\n",
    "    no_stop_el = list()"
   ]
  },
  {
   "cell_type": "code",
   "execution_count": 251,
   "metadata": {},
   "outputs": [
    {
     "data": {
      "text/plain": [
       "146697"
      ]
     },
     "execution_count": 251,
     "metadata": {},
     "output_type": "execute_result"
    }
   ],
   "source": [
    "# all unique words\n",
    "flat_stop = [item for sublist in no_stop for item in sublist]\n",
    "len(set(flat_stop))"
   ]
  },
  {
   "cell_type": "code",
   "execution_count": 252,
   "metadata": {},
   "outputs": [],
   "source": [
    "# create dictionary map between word to number: \n",
    "dictionary ={}\n",
    "count = 1 \n",
    "for i in flat_stop:\n",
    "    if i not in dictionary.keys():\n",
    "        dictionary[i] = count \n",
    "    count = count + 1 "
   ]
  },
  {
   "cell_type": "code",
   "execution_count": 253,
   "metadata": {},
   "outputs": [],
   "source": [
    "temp = list()\n",
    "dict_temp = list()\n",
    "for i in no_stop:\n",
    "    for j in i: \n",
    "        temp.append(dictionary[j])\n",
    "    dict_temp.append(temp)\n",
    "    temp = list()"
   ]
  },
  {
   "cell_type": "code",
   "execution_count": 254,
   "metadata": {},
   "outputs": [],
   "source": [
    "outputfile = open('outputfile.txt', 'w')"
   ]
  },
  {
   "cell_type": "code",
   "execution_count": 255,
   "metadata": {},
   "outputs": [],
   "source": [
    "output = list()\n",
    "for i in range(0, len(dict_temp)):\n",
    "    output.append(\"\\n\" + ' '.join([str(elem) for elem in dict_temp[i]]))"
   ]
  },
  {
   "cell_type": "code",
   "execution_count": 256,
   "metadata": {},
   "outputs": [
    {
     "data": {
      "text/plain": [
       "'\\n982 436371 394210 412849 1376356 20 811 6 418049 62162 381773 382367 919 523730 1545 9 78 28 534294 73 8005 58158 28 1359510'"
      ]
     },
     "execution_count": 256,
     "metadata": {},
     "output_type": "execute_result"
    }
   ],
   "source": [
    "\"\\n\" + ' '.join([str(elem) for elem in dict_temp[i]])"
   ]
  },
  {
   "cell_type": "code",
   "execution_count": 257,
   "metadata": {},
   "outputs": [],
   "source": [
    "outputfile.writelines(output)"
   ]
  },
  {
   "cell_type": "code",
   "execution_count": null,
   "metadata": {},
   "outputs": [],
   "source": []
  }
 ],
 "metadata": {
  "kernelspec": {
   "display_name": "Python 3",
   "language": "python",
   "name": "python3"
  },
  "language_info": {
   "codemirror_mode": {
    "name": "ipython",
    "version": 3
   },
   "file_extension": ".py",
   "mimetype": "text/x-python",
   "name": "python",
   "nbconvert_exporter": "python",
   "pygments_lexer": "ipython3",
   "version": "3.7.4"
  }
 },
 "nbformat": 4,
 "nbformat_minor": 2
}
