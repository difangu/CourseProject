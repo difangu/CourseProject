{
 "cells": [
  {
   "cell_type": "code",
   "execution_count": 1,
   "metadata": {},
   "outputs": [],
   "source": [
    "# read txt docs by lines, order has been matched exactly when exported from pre-processing phase \n",
    "school = [line.rstrip() for line in open('dblp_school.txt')]\n",
    "title  = [line.rstrip() for line in open('dblp_title.txt')]\n",
    "word  = [line.rstrip() for line in open('dblp_word.txt')]\n"
   ]
  },
  {
   "cell_type": "code",
   "execution_count": 2,
   "metadata": {},
   "outputs": [
    {
     "name": "stdout",
     "output_type": "stream",
     "text": [
      "['Darmstadt University of Technology, Germany', 'Karlsruhe Institute of Technology, Germany', 'RWTH Aachen University, Germany', 'University of Satilde;o Paulo, Brazil', 'Dresden University of Technology, Germany', 'Joseph Fourier University, Grenoble, France', 'Technical University Munich, Germany', 'University of Maryland, College Park, MD, USA', 'Georgia Institute of Technology, Atlanta, GA, USA', 'Massachusetts Institute of Technology, Cambridge, MA, USA']\n"
     ]
    }
   ],
   "source": [
    "# we have totally 10 schools that have been shown below\n",
    "unique_school = list(set(school))\n",
    "print(unique_school)"
   ]
  },
  {
   "cell_type": "code",
   "execution_count": 3,
   "metadata": {},
   "outputs": [],
   "source": [
    "# this function will return school index that matches its input school name\n",
    "def return_index(sc_name): \n",
    "    indices = [i for i, x in enumerate(school) if x == sc_name]\n",
    "    return indices"
   ]
  },
  {
   "cell_type": "code",
   "execution_count": 4,
   "metadata": {},
   "outputs": [
    {
     "name": "stdout",
     "output_type": "stream",
     "text": [
      "Darmstadt University of Technology, Germany\n",
      "Karlsruhe Institute of Technology, Germany\n",
      "RWTH Aachen University, Germany\n",
      "University of Satilde;o Paulo, Brazil\n",
      "Dresden University of Technology, Germany\n",
      "Joseph Fourier University, Grenoble, France\n",
      "Technical University Munich, Germany\n",
      "University of Maryland, College Park, MD, USA\n",
      "Georgia Institute of Technology, Atlanta, GA, USA\n",
      "Massachusetts Institute of Technology, Cambridge, MA, USA\n"
     ]
    }
   ],
   "source": [
    "# create a list of list where each sublist contains all titles from that particular school\n",
    "school_title_list = list()\n",
    "for i in range(0, len(unique_school)):\n",
    "    tmp = list()\n",
    "    print(unique_school[i])\n",
    "    school_ind_list = return_index(unique_school[i])\n",
    "    for j in school_ind_list:\n",
    "        tmp.append(title[j])\n",
    "    school_title_list.append(tmp)  "
   ]
  },
  {
   "cell_type": "code",
   "execution_count": 5,
   "metadata": {},
   "outputs": [
    {
     "data": {
      "text/plain": [
       "'Darmstadt University of Technology, Germany'"
      ]
     },
     "execution_count": 5,
     "metadata": {},
     "output_type": "execute_result"
    }
   ],
   "source": [
    "# For example, the first school is University of Satilde;o Paulo, Brazil\n",
    "unique_school[0]"
   ]
  },
  {
   "cell_type": "code",
   "execution_count": 6,
   "metadata": {},
   "outputs": [
    {
     "data": {
      "text/plain": [
       "2840"
      ]
     },
     "execution_count": 6,
     "metadata": {},
     "output_type": "execute_result"
    }
   ],
   "source": [
    "# University of Satilde;o Paulo, Brazil's first item has index 1 in title list \n",
    "return_index(unique_school[0])[0]"
   ]
  },
  {
   "cell_type": "code",
   "execution_count": 7,
   "metadata": {},
   "outputs": [
    {
     "data": {
      "text/plain": [
       "'4 -1 4 39 -1 39 -1 -2'"
      ]
     },
     "execution_count": 7,
     "metadata": {},
     "output_type": "execute_result"
    }
   ],
   "source": [
    "# return title with index = 1\n",
    "title[return_index(unique_school[0])[0]]"
   ]
  },
  {
   "cell_type": "code",
   "execution_count": 8,
   "metadata": {},
   "outputs": [
    {
     "data": {
      "text/plain": [
       "True"
      ]
     },
     "execution_count": 8,
     "metadata": {},
     "output_type": "execute_result"
    }
   ],
   "source": [
    "# This matches what we have from the school_title_list \n",
    "title[return_index(unique_school[0])[0]] == school_title_list[0][0]"
   ]
  },
  {
   "cell_type": "code",
   "execution_count": 11,
   "metadata": {},
   "outputs": [
    {
     "name": "stdout",
     "output_type": "stream",
     "text": [
      "Darmstadt University of Technology, Germany has been output!\n",
      "Karlsruhe Institute of Technology, Germany has been output!\n",
      "RWTH Aachen University, Germany has been output!\n",
      "University of Satilde;o Paulo, Brazil has been output!\n",
      "Dresden University of Technology, Germany has been output!\n",
      "Joseph Fourier University, Grenoble, France has been output!\n",
      "Technical University Munich, Germany has been output!\n",
      "University of Maryland, College Park, MD, USA has been output!\n",
      "Georgia Institute of Technology, Atlanta, GA, USA has been output!\n",
      "Massachusetts Institute of Technology, Cambridge, MA, USA has been output!\n"
     ]
    }
   ],
   "source": [
    "# write all of file in a for loop:\n",
    "for i in range(0, len(unique_school)):\n",
    "    school_name = unique_school[i]\n",
    "    print(school_name + \" has been output!\")\n",
    "    f = open(\"school\" + str(i) + \".txt\", \"w\")\n",
    "    for j in range(0, len(school_title_list[i])):\n",
    "        if j == 0:\n",
    "            f.write((school_title_list[i][j]))\n",
    "        else: \n",
    "            f.write('\\n' + (school_title_list[i][j]))\n",
    "f.close()"
   ]
  },
  {
   "cell_type": "code",
   "execution_count": null,
   "metadata": {},
   "outputs": [],
   "source": []
  }
 ],
 "metadata": {
  "kernelspec": {
   "display_name": "Python 3",
   "language": "python",
   "name": "python3"
  },
  "language_info": {
   "codemirror_mode": {
    "name": "ipython",
    "version": 3
   },
   "file_extension": ".py",
   "mimetype": "text/x-python",
   "name": "python",
   "nbconvert_exporter": "python",
   "pygments_lexer": "ipython3",
   "version": "3.7.4"
  }
 },
 "nbformat": 4,
 "nbformat_minor": 2
}
